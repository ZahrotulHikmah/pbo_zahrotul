{
  "nbformat": 4,
  "nbformat_minor": 0,
  "metadata": {
    "colab": {
      "provenance": [],
      "include_colab_link": true
    },
    "kernelspec": {
      "name": "python3",
      "display_name": "Python 3"
    },
    "language_info": {
      "name": "python"
    }
  },
  "cells": [
    {
      "cell_type": "markdown",
      "metadata": {
        "id": "view-in-github",
        "colab_type": "text"
      },
      "source": [
        "<a href=\"https://colab.research.google.com/github/ZahrotulHikmah/pbo_zahrotul/blob/main/TryoutUTSPraktek_zahkey.ipynb\" target=\"_parent\"><img src=\"https://colab.research.google.com/assets/colab-badge.svg\" alt=\"Open In Colab\"/></a>"
      ]
    },
    {
      "cell_type": "markdown",
      "source": [
        "Anda adalah seorang ilmuwan lingkungan yang bekerja dalam penelitian organisme di berbagai ekosistem. Anda memiliki kelas dasar Organisme dengan atribut berikut:\n",
        "\n",
        "*   nama (nama organisme)\n",
        "*   jenis (jenis organisme, misalnya, tumbuhan, hewan, mikroba, dll.)\n",
        "\n",
        "Selain itu, Anda memiliki dua jenis organisme spesifik: **Tumbuhan** dan **Hewan**.\n",
        "\n",
        "Tumbuhan memiliki atribut tambahan yaitu lokasi (lokasi tumbuhan ditemukan, misalnya, hutan, sungai, dll.)\n",
        "\n",
        "Sementara Hewan memiliki atribut tambahan yaitu makanan (jenis makanan yang dikonsumsi hewan, misalnya, herbivora, karnivora, omnivora, dll.)\n",
        "\n",
        "\n",
        "Anda ditugaskan membuat program Python yang memungkinkan Anda untuk mencetak informasi tentang setiap organisme, termasuk nama, jenis, serta atribut tambahan yang sesuai (lokasi atau jenis makanan)."
      ],
      "metadata": {
        "id": "Xcnm52jtL9YY"
      }
    },
    {
      "cell_type": "code",
      "execution_count": 1,
      "metadata": {
        "id": "9pLv2WhSLUZc"
      },
      "outputs": [],
      "source": [
        "class Organisme:\n",
        "#Buat class Organisme disini\n",
        "  def __init__ ( self, nama, jenis):\n",
        "    self.nama = nama\n",
        "    self.jenis = jenis\n",
        "\n",
        "  def deskripsi(self):\n",
        "    print('Nama :', self.nama, 'Jenis :', self.jenis)"
      ]
    },
    {
      "cell_type": "code",
      "source": [
        "class Tumbuhan(Organisme):\n",
        "#Buat class Tumbuhan disini\n",
        "  def __init__ (self, nama, jenis, lokasi):\n",
        "    super().__init__ (nama, jenis)\n",
        "    self.lokasi = lokasi\n",
        "\n",
        "  def deskripsi(self):\n",
        "    super().deskripsi()\n",
        "    print('Lokasi tumbuhan ditemukan:', self.lokasi)"
      ],
      "metadata": {
        "id": "aZ-2FjdaObMu"
      },
      "execution_count": 2,
      "outputs": []
    },
    {
      "cell_type": "code",
      "source": [
        "class Hewan(Organisme):\n",
        "#Buat class Hewan disini\n",
        "  def __init__ (self, nama, jenis, makanan):\n",
        "    super().__init__ (nama, jenis)\n",
        "    self.makanan = makanan\n",
        "\n",
        "  def deskripsi(self):\n",
        "    super().deskripsi()\n",
        "    print('Jenis makanan:', self.makanan)"
      ],
      "metadata": {
        "id": "ItwqUUUjOdp4"
      },
      "execution_count": 3,
      "outputs": []
    },
    {
      "cell_type": "code",
      "source": [
        "#Buat program disini untuk menggunakan class-class di atas dan menampilkan informasi\n",
        "organisme1 = Tumbuhan('Bunga_Lily', 'Tumbuhan', 'Pegunungan')\n",
        "organisme2 = Hewan('Singa', 'Hewan', 'Karnivora')\n",
        "\n",
        "print('Informasi Tumbuhan')\n",
        "organisme1.deskripsi()\n",
        "print('Informasi Hewan')\n",
        "organisme2.deskripsi()"
      ],
      "metadata": {
        "id": "gWi4_l0gOe-8",
        "colab": {
          "base_uri": "https://localhost:8080/"
        },
        "outputId": "2553d5ff-9e39-4239-97b8-59e2e3f14347"
      },
      "execution_count": 5,
      "outputs": [
        {
          "output_type": "stream",
          "name": "stdout",
          "text": [
            "Informasi Tumbuhan\n",
            "Nama : Bunga_Lily Jenis : Tumbuhan\n",
            "Lokasi tumbuhan ditemukan: Pegunungan\n",
            "Informasi Hewan\n",
            "Nama : Singa Jenis : Hewan\n",
            "Jenis makanan: Karnivora\n"
          ]
        }
      ]
    },
    {
      "cell_type": "markdown",
      "source": [
        "# Penjelasan:\n",
        "\n",
        "Class organisme adalah kelas induk dengan atribut **nama** dan **jenis**. Fungsi **deskripsi** dalam kelas ini mencetak informasi umum tentang organisme.\n",
        "\n",
        "Class **Tumbuhan** kelas turunan dari class Organisme dan memiliki atribut tambahan **lokasi**. Fungsi **Deskripsi** dalam class ini memanggil fungsi **deskripsi** dari class dasar (super().deskripsi()) dan mencetak informasi tambahan tentang tumbuhan, yaitu **tempat tumbuhan ditemukan**.\n",
        "\n",
        "Class **Hewan** juga mewarisi dari class **organisme** dan memiliki atribut tambahan **makanan**. Fungsi **deskrisi** dalam class ini juga memanggil fungsi deskripsi dari class organisme dan mencetak informasi tambahan tentang hewan, yaitu **jenis makanan**"
      ],
      "metadata": {
        "id": "2xAfWE4hMnGD"
      }
    }
  ]
}